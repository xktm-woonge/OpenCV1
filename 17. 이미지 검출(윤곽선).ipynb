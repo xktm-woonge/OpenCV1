{
 "cells": [
  {
   "cell_type": "markdown",
   "id": "61d84736",
   "metadata": {},
   "source": [
    "# 17. 이미지 검출(윤곽선)"
   ]
  },
  {
   "cell_type": "markdown",
   "id": "e28c9acc",
   "metadata": {},
   "source": [
    "## 윤곽선(Contour) : 경계선을 연결하는 선"
   ]
  },
  {
   "cell_type": "code",
   "execution_count": 4,
   "id": "ed6b0860",
   "metadata": {},
   "outputs": [],
   "source": [
    "import cv2\n",
    "\n",
    "img = cv2.imread('card.png')\n",
    "target_img = img.copy() #사본 이미지\n",
    "\n",
    "gray = cv2.cvtColor(img, cv2.COLOR_BGR2GRAY)\n",
    "\n",
    "ret, otsu = cv2.threshold(gray, -1, 255, cv2.THRESH_BINARY | cv2.THRESH_OTSU)\n",
    "\n",
    "contour, hierarchy = cv2.findContours(otsu, cv2.RETR_LIST, cv2.CHAIN_APPROX_NONE) # 윤곽선 검출\n",
    "# 윤곽선 정보, 구조\n",
    "# 이미지, 윤곽선 찾는 모드(mode), 윤곽선을 찾을때 사용하는 근사치 방법(method)\n",
    "\n",
    "COLOR = (0, 200, 2) # 녹색\n",
    "cv2.drawContours(target_img, contour, -1, COLOR, 2) #윤곽선 그리기\n",
    "# 대상 이미지, 윤곽선 정보, 인덱스(-1 이면 전체), 색, 두께\n",
    "\n",
    "cv2.imshow('img', img)\n",
    "cv2.imshow('gray', gray)\n",
    "cv2.imshow('otsu', otsu)\n",
    "cv2.imshow('contour', target_img)\n",
    "\n",
    "cv2.waitKey(0)\n",
    "cv2.destroyAllWindows()"
   ]
  },
  {
   "cell_type": "markdown",
   "id": "f42511b2",
   "metadata": {},
   "source": [
    "## 윤곽선 찾기 모드\n",
    "1. cv2.RETR_EXTERNAL : 가장 외곽의 윤곽선만 찾음\n",
    "1. cv2.RETR_LIST : 모든 윤곽선을 찾음(계층 정보 x)\n",
    "1. cv2.RETR_TREE : 모든 윤곽선을 찾음(계층 정보를 트리 구조로 생성)"
   ]
  },
  {
   "cell_type": "code",
   "execution_count": 5,
   "id": "bada8c21",
   "metadata": {},
   "outputs": [],
   "source": [
    "import cv2\n",
    "\n",
    "img = cv2.imread('card.png')\n",
    "target_img = img.copy() #사본 이미지\n",
    "\n",
    "gray = cv2.cvtColor(img, cv2.COLOR_BGR2GRAY)\n",
    "\n",
    "ret, otsu = cv2.threshold(gray, -1, 255, cv2.THRESH_BINARY | cv2.THRESH_OTSU)\n",
    "\n",
    "contour, hierarchy = cv2.findContours(otsu, cv2.RETR_EXTERNAL, cv2.CHAIN_APPROX_NONE) # 윤곽선 검출\n",
    "# 윤곽선 정보, 구조\n",
    "# 이미지, 윤곽선 찾는 모드(mode), 윤곽선을 찾을때 사용하는 근사치 방법(method)\n",
    "\n",
    "COLOR = (0, 200, 2) # 녹색\n",
    "cv2.drawContours(target_img, contour, -1, COLOR, 2) #윤곽선 그리기\n",
    "# 대상 이미지, 윤곽선 정보, 인덱스(-1 이면 전체), 색, 두께\n",
    "\n",
    "cv2.imshow('img', img)\n",
    "cv2.imshow('gray', gray)\n",
    "cv2.imshow('otsu', otsu)\n",
    "cv2.imshow('contour', target_img)\n",
    "\n",
    "cv2.waitKey(0)\n",
    "cv2.destroyAllWindows()"
   ]
  },
  {
   "cell_type": "markdown",
   "id": "0515460b",
   "metadata": {},
   "source": [
    "## 경계 사각형\n",
    "윤곽선의 경계면을 둘러싸는 사각형\n",
    "> boundingRect()"
   ]
  },
  {
   "cell_type": "code",
   "execution_count": 7,
   "id": "af73f2a6",
   "metadata": {},
   "outputs": [],
   "source": [
    "import cv2\n",
    "\n",
    "img = cv2.imread('card.png')\n",
    "target_img = img.copy() #사본 이미지\n",
    "\n",
    "gray = cv2.cvtColor(img, cv2.COLOR_BGR2GRAY)\n",
    "\n",
    "ret, otsu = cv2.threshold(gray, -1, 255, cv2.THRESH_BINARY | cv2.THRESH_OTSU)\n",
    "\n",
    "contour, hierarchy = cv2.findContours(otsu, cv2.RETR_LIST, cv2.CHAIN_APPROX_NONE) # 윤곽선 검출\n",
    "# 윤곽선 정보, 구조\n",
    "# 이미지, 윤곽선 찾는 모드(mode), 윤곽선을 찾을때 사용하는 근사치 방법(method) : CHAIN_APPROX_NONE(모든 좌표), CHAIN_APPROX_SIMPLE(꼭짓점 좌표)\n",
    "\n",
    "COLOR = (0, 200, 2) # 녹색\n",
    "\n",
    "for cnt in contour:\n",
    "    x, y ,width, height = cv2.boundingRect(cnt)\n",
    "    cv2.rectangle(target_img,(x,y), (x+width, y+height), COLOR, 2) #사각형 그리기\n",
    "\n",
    "cv2.imshow('img', img)\n",
    "cv2.imshow('gray', gray)\n",
    "cv2.imshow('otsu', otsu)\n",
    "cv2.imshow('contour', target_img)\n",
    "\n",
    "cv2.waitKey(0)\n",
    "cv2.destroyAllWindows()"
   ]
  },
  {
   "cell_type": "markdown",
   "id": "21c5a171",
   "metadata": {},
   "source": [
    "## 면적\n",
    "> contourArea()"
   ]
  },
  {
   "cell_type": "code",
   "execution_count": 8,
   "id": "a05a3433",
   "metadata": {},
   "outputs": [],
   "source": [
    "import cv2\n",
    "\n",
    "img = cv2.imread('card.png')\n",
    "target_img = img.copy() #사본 이미지\n",
    "\n",
    "gray = cv2.cvtColor(img, cv2.COLOR_BGR2GRAY)\n",
    "\n",
    "ret, otsu = cv2.threshold(gray, -1, 255, cv2.THRESH_BINARY | cv2.THRESH_OTSU)\n",
    "\n",
    "contour, hierarchy = cv2.findContours(otsu, cv2.RETR_LIST, cv2.CHAIN_APPROX_NONE) # 윤곽선 검출\n",
    "# 윤곽선 정보, 구조\n",
    "# 이미지, 윤곽선 찾는 모드(mode), 윤곽선을 찾을때 사용하는 근사치 방법(method)\n",
    "\n",
    "COLOR = (0, 200, 2) # 녹색\n",
    "\n",
    "for cnt in contour:\n",
    "    if cv2.contourArea(cnt) > 25000:\n",
    "        x, y ,width, height = cv2.boundingRect(cnt)\n",
    "        cv2.rectangle(target_img,(x,y), (x+width, y+height), COLOR, 2) #사각형 그리기\n",
    "        \n",
    "\n",
    "cv2.imshow('img', img)\n",
    "cv2.imshow('contour', target_img)\n",
    "\n",
    "cv2.waitKey(0)\n",
    "cv2.destroyAllWindows()"
   ]
  },
  {
   "cell_type": "markdown",
   "id": "e867e1ac",
   "metadata": {},
   "source": [
    "## 개별 카드 추출해서 파일 저장"
   ]
  },
  {
   "cell_type": "code",
   "execution_count": 9,
   "id": "c46d9dcd",
   "metadata": {},
   "outputs": [],
   "source": [
    "import cv2\n",
    "\n",
    "img = cv2.imread('card.png')\n",
    "target_img = img.copy() #사본 이미지\n",
    "\n",
    "gray = cv2.cvtColor(img, cv2.COLOR_BGR2GRAY)\n",
    "\n",
    "ret, otsu = cv2.threshold(gray, -1, 255, cv2.THRESH_BINARY | cv2.THRESH_OTSU)\n",
    "\n",
    "contour, hierarchy = cv2.findContours(otsu, cv2.RETR_LIST, cv2.CHAIN_APPROX_NONE) # 윤곽선 검출\n",
    "# 윤곽선 정보, 구조\n",
    "# 이미지, 윤곽선 찾는 모드(mode), 윤곽선을 찾을때 사용하는 근사치 방법(method)\n",
    "\n",
    "COLOR = (0, 200, 2) # 녹색\n",
    "\n",
    "idx = 1\n",
    "\n",
    "for cnt in contour:\n",
    "    if cv2.contourArea(cnt) > 25000:\n",
    "        x, y ,width, height = cv2.boundingRect(cnt)\n",
    "        cv2.rectangle(target_img,(x,y), (x+width, y+height), COLOR, 2) #사각형 그리기\n",
    "        \n",
    "        crop = img[y: y+height, x: x+width]\n",
    "        cv2.imshow(f'card_crop{idx}', crop)\n",
    "        cv2.imwrite(f'card_crop{idx}.png', crop)\n",
    "        idx += 1\n",
    "        \n",
    "\n",
    "cv2.imshow('img', img)\n",
    "cv2.imshow('contour', target_img)\n",
    "\n",
    "cv2.waitKey(0)\n",
    "cv2.destroyAllWindows()"
   ]
  }
 ],
 "metadata": {
  "kernelspec": {
   "display_name": "Python 3 (ipykernel)",
   "language": "python",
   "name": "python3"
  },
  "language_info": {
   "codemirror_mode": {
    "name": "ipython",
    "version": 3
   },
   "file_extension": ".py",
   "mimetype": "text/x-python",
   "name": "python",
   "nbconvert_exporter": "python",
   "pygments_lexer": "ipython3",
   "version": "3.9.7"
  }
 },
 "nbformat": 4,
 "nbformat_minor": 5
}
