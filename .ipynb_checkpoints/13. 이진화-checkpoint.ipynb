{
 "cells": [
  {
   "cell_type": "markdown",
   "id": "1acb7434",
   "metadata": {},
   "source": [
    "# 13. 이진화"
   ]
  },
  {
   "cell_type": "code",
   "execution_count": 1,
   "id": "13e33a4a",
   "metadata": {},
   "outputs": [],
   "source": [
    "import cv2\n",
    "\n",
    "img = cv2.imread('book.jpg', cv2.IMREAD_GRAYSCALE)\n",
    "\n",
    "ret, binary = cv2.threshold(img, 127, 255, cv2.THRESH_BINARY)\n",
    "\n",
    "cv2.imshow('img', img)\n",
    "cv2.imshow('binary', binary)\n",
    "cv2.waitKey(0)\n",
    "cv2.destroyAllWindows()"
   ]
  },
  {
   "cell_type": "markdown",
   "id": "a7df7552",
   "metadata": {},
   "source": [
    "## Trackbar(값 변화에 따른 변형 확인)"
   ]
  },
  {
   "cell_type": "code",
   "execution_count": 2,
   "id": "ce497a4b",
   "metadata": {},
   "outputs": [
    {
     "name": "stdout",
     "output_type": "stream",
     "text": [
      "127\n"
     ]
    }
   ],
   "source": [
    "import cv2\n",
    "\n",
    "def empty(pos):\n",
    "    print(pos)\n",
    "    pass\n",
    "\n",
    "img = cv2.imread('book.jpg', cv2.IMREAD_GRAYSCALE)\n",
    "\n",
    "name = 'Trackbar'\n",
    "cv2.namedWindow(name)\n",
    "\n",
    "cv2.createTrackbar('threshold', name, 127, 255, empty)\n",
    "# bar 이름, 창의 이름, 초기값, 최대값, 이벤트 처리\n",
    "\n",
    "while True:\n",
    "    thresh = cv2.getTrackbarPos('threshold', name) # bar 이름, 창의 이름\n",
    "    ret, binary = cv2.threshold(img, thresh, 255, cv2.THRESH_BINARY)\n",
    "    # return  값 2개\n",
    "    \n",
    "    \n",
    "    if not ret:\n",
    "        break\n",
    "    \n",
    "    cv2.imshow(name, binary)\n",
    "    \n",
    "    if cv2.waitKey(1) == ord('q'):\n",
    "        break\n",
    "        \n",
    "cv2.destroyAllWindows()\n",
    "\n",
    "\n",
    "# 임계값 : 검은색(0), 진한 회색(127), 밝은 회색(195), 흰색(255)"
   ]
  },
  {
   "cell_type": "markdown",
   "id": "0405ad61",
   "metadata": {},
   "source": [
    "## Adaptive Threshold\n",
    "이미지를 작은 영역으로 나누어서 임계치 적용"
   ]
  },
  {
   "cell_type": "code",
   "execution_count": 4,
   "id": "8cb9e5bb",
   "metadata": {},
   "outputs": [],
   "source": [
    "import cv2\n",
    "\n",
    "def empty(pos):\n",
    "#     print(pos)\n",
    "    pass\n",
    "\n",
    "img = cv2.imread('book.jpg', cv2.IMREAD_GRAYSCALE)\n",
    "\n",
    "name = 'Trackbar'\n",
    "cv2.namedWindow(name)\n",
    "\n",
    "cv2.createTrackbar('block_size', name, 25, 100, empty) # block size : 홀수만 가능, 1보다 큰 값\n",
    "cv2.createTrackbar('c', name, 3, 10, empty) # 일반적으로 양수의 값을 사용\n",
    "# bar 이름, 창의 이름, 초기값, 최대값, 이벤트 처리\n",
    "\n",
    "while True:\n",
    "    block_size = cv2.getTrackbarPos('block_size', name) # bar 이름, 창의 이름\n",
    "    c = cv2.getTrackbarPos('c', name)\n",
    "    \n",
    "    if block_size <= 1:\n",
    "        block_size = 3\n",
    "        \n",
    "    if block_size % 2 == 0:\n",
    "        block_size += 1\n",
    "        \n",
    "    binary = cv2.adaptiveThreshold(img, 255, cv2.ADAPTIVE_THRESH_MEAN_C, cv2.THRESH_BINARY, block_size, c)\n",
    "    # return  값 1개\n",
    "    \n",
    "    \n",
    "    \n",
    "    cv2.imshow(name, binary)\n",
    "    \n",
    "    if cv2.waitKey(1) == ord('q'):\n",
    "        break\n",
    "        \n",
    "cv2.destroyAllWindows()\n",
    "\n",
    "\n",
    "# 임계값 : 검은색(0), 진한 회색(127), 밝은 회색(195), 흰색(255)"
   ]
  },
  {
   "cell_type": "markdown",
   "id": "b55e55f1",
   "metadata": {},
   "source": [
    "## 오츠 알고리즘"
   ]
  },
  {
   "cell_type": "code",
   "execution_count": null,
   "id": "143f755d",
   "metadata": {},
   "outputs": [],
   "source": [
    "Bimodal Image 에 사용하기 적합(최적의 임계치를 자동으로 발견)"
   ]
  },
  {
   "cell_type": "code",
   "execution_count": 5,
   "id": "1205edfd",
   "metadata": {},
   "outputs": [
    {
     "name": "stdout",
     "output_type": "stream",
     "text": [
      "otsu threshold : 100.0\n"
     ]
    }
   ],
   "source": [
    "import cv2\n",
    "\n",
    "img = cv2.imread('book.jpg', cv2.IMREAD_GRAYSCALE)\n",
    "\n",
    "ret, binary = cv2.threshold(img, 127, 255, cv2.THRESH_BINARY)\n",
    "ret, otsu = cv2.threshold(img, -1, 255, cv2.THRESH_BINARY | cv2.THRESH_OTSU)\n",
    "print('otsu threshold :', ret)\n",
    "\n",
    "cv2.imshow('img', img)\n",
    "cv2.imshow('binary', binary)\n",
    "cv2.imshow('otsu', otsu)\n",
    "cv2.waitKey(0)\n",
    "cv2.destroyAllWindows()"
   ]
  }
 ],
 "metadata": {
  "kernelspec": {
   "display_name": "Python 3 (ipykernel)",
   "language": "python",
   "name": "python3"
  },
  "language_info": {
   "codemirror_mode": {
    "name": "ipython",
    "version": 3
   },
   "file_extension": ".py",
   "mimetype": "text/x-python",
   "name": "python",
   "nbconvert_exporter": "python",
   "pygments_lexer": "ipython3",
   "version": "3.9.7"
  }
 },
 "nbformat": 4,
 "nbformat_minor": 5
}
