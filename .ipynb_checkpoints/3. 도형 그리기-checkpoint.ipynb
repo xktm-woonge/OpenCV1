{
 "cells": [
  {
   "cell_type": "markdown",
   "id": "c0f6d8ff",
   "metadata": {},
   "source": [
    "# 3. 도형 그리기"
   ]
  },
  {
   "cell_type": "markdown",
   "id": "b38ec255",
   "metadata": {},
   "source": [
    "## 빈 스케치북 만들기"
   ]
  },
  {
   "cell_type": "code",
   "execution_count": 2,
   "id": "7be14e8a",
   "metadata": {},
   "outputs": [],
   "source": [
    "import cv2\n",
    "import numpy as np\n",
    "\n",
    "# 세로 480 X 가로 6410, 3 Channel(RGB)에 해당하는 스케치북\n",
    "\n",
    "img = np.zeros((480, 640, 3), dtype= np.uint8) # 전체 공간 검은색\n",
    "img[:] = [255, 255, 255] # 전체 공간 흰색\n",
    "\n",
    "cv2.imshow('img', img)\n",
    "cv2. waitKey(0)\n",
    "cv2.destroyAllWindows()"
   ]
  },
  {
   "cell_type": "markdown",
   "id": "4c00fa59",
   "metadata": {},
   "source": [
    "## 일부 영역 색칠하기"
   ]
  },
  {
   "cell_type": "code",
   "execution_count": 3,
   "id": "ade1f438",
   "metadata": {},
   "outputs": [],
   "source": [
    "import cv2\n",
    "import numpy as np\n",
    "\n",
    "\n",
    "\n",
    "img = np.zeros((480, 640, 3), dtype= np.uint8) \n",
    "img [100:200, 200:300] = (255,255,255)\n",
    "# [세로, 가로]\n",
    "cv2.imshow('img', img)\n",
    "cv2. waitKey(0)\n",
    "cv2.destroyAllWindows()"
   ]
  },
  {
   "cell_type": "markdown",
   "id": "a6b377b3",
   "metadata": {},
   "source": [
    "## 직선\n",
    "\n",
    "직선의 종류(line type)\n",
    "\n",
    "1. cv2.LINE_4 : 상하좌우 4 방향으로 연결된 선\n",
    "2. cv2.LINE_8 : 대각선을 포함한 8 방향으로 연결된 선(기본값)\n",
    "3. cv2.LINE_AA : 부드러운 선(anti-aliasing)\n"
   ]
  },
  {
   "cell_type": "code",
   "execution_count": 6,
   "id": "aa4fb69a",
   "metadata": {},
   "outputs": [],
   "source": [
    "import cv2\n",
    "import numpy as np\n",
    "\n",
    "\n",
    "\n",
    "img = np.zeros((480, 640, 3), dtype= np.uint8) \n",
    "\n",
    "COLOR = (0, 255, 255) #BGR : Yellow\n",
    "THICKNESS = 3 #두께\n",
    "\n",
    "cv2.line(img, (50, 100), (400, 50), COLOR, THICKNESS, cv2.LINE_8)\n",
    "# (그림 위치, 시작 점, 끝 점 , 색 , 두께, 선 종류)\n",
    "cv2.line(img, (50, 200), (400, 150), COLOR, THICKNESS, cv2.LINE_4)\n",
    "cv2.line(img, (50, 300), (400, 250), COLOR, THICKNESS, cv2.LINE_AA)\n",
    "\n",
    "cv2.imshow('img', img)\n",
    "cv2.waitKey(0)\n",
    "cv2.destroyAllWindows()"
   ]
  },
  {
   "cell_type": "markdown",
   "id": "7999527c",
   "metadata": {},
   "source": [
    "## 원 그리기"
   ]
  },
  {
   "cell_type": "code",
   "execution_count": 8,
   "id": "ad5e5c46",
   "metadata": {},
   "outputs": [],
   "source": [
    "import cv2\n",
    "import numpy as np\n",
    "\n",
    "\n",
    "\n",
    "img = np.zeros((480, 640, 3), dtype= np.uint8) \n",
    "\n",
    "COLOR = (255, 255, 0) #BGR : 옥색\n",
    "RADIUS = 50 #반지름\n",
    "THICKNESS = 10 #두께\n",
    "\n",
    "cv2.circle(img, (200, 100), RADIUS, COLOR, THICKNESS, cv2.LINE_AA) # 속 빈 원\n",
    "# 그릴 위치, 중심점, 반지름, 색, 두께, 선\n",
    "cv2.circle(img, (400, 100), RADIUS, COLOR, cv2.FILLED, cv2.LINE_AA) #꽉 찬 원\n",
    "\n",
    "cv2.imshow('img', img)\n",
    "cv2.waitKey(0)\n",
    "cv2.destroyAllWindows()"
   ]
  },
  {
   "cell_type": "markdown",
   "id": "e902554d",
   "metadata": {},
   "source": [
    "## 사각형"
   ]
  },
  {
   "cell_type": "code",
   "execution_count": 10,
   "id": "0a36fc27",
   "metadata": {},
   "outputs": [],
   "source": [
    "import cv2\n",
    "import numpy as np\n",
    "\n",
    "\n",
    "\n",
    "img = np.zeros((480, 640, 3), dtype= np.uint8) \n",
    "\n",
    "COLOR = (0, 255, 0) #BGR : 초록색\n",
    "THICKNESS = 3 #두께\n",
    "\n",
    "cv2.rectangle(img, (100, 100), (200, 200), COLOR, THICKNESS) # 속이 빈\n",
    "# 그릴 위치, 왼쪽 위, 오른쪽 아래, 색깔, 두께\n",
    "cv2.rectangle(img, (300, 100), (400, 200), COLOR, cv2.FILLED) # 꽉 찬\n",
    "\n",
    "cv2.imshow('img', img)\n",
    "cv2.waitKey(0)\n",
    "cv2.destroyAllWindows()"
   ]
  },
  {
   "cell_type": "markdown",
   "id": "ac4d7f31",
   "metadata": {},
   "source": [
    "## 다각형"
   ]
  },
  {
   "cell_type": "code",
   "execution_count": 19,
   "id": "7544f65f",
   "metadata": {},
   "outputs": [],
   "source": [
    "import cv2\n",
    "import numpy as np\n",
    "\n",
    "\n",
    "\n",
    "img = np.zeros((480, 640, 3), dtype= np.uint8) \n",
    "COLOR = (0, 0, 255) #BGR : 빨간색\n",
    "THICKNESS = 3 #두께\n",
    "\n",
    "pts1 = np.array([[100,100],[200,100],[100,200]])\n",
    "pts2 = np.array([[200,100],[300,100],[300,200]])\n",
    "\n",
    "# cv2.polylines(img, [pts1], True, COLOR, THICKNESS, cv2.LINE_AA)\n",
    "# # 그릴 위치, 이을 점 위치, 도형을 닫을지 말지, 색, 두께, 선 종류\n",
    "\n",
    "# cv2.polylines(img, [pts2], True, COLOR, THICKNESS, cv2.LINE_AA)\n",
    "\n",
    "cv2.polylines(img, [pts1, pts2], True, COLOR, THICKNESS, cv2.LINE_AA) # 속이 빈 다각형\n",
    "\n",
    "pts3 = np.array([[[100, 300], [200, 300], [100, 400]],[[200, 300], [300, 300], [300, 400]]])\n",
    "cv2.fillPoly(img, pts3,  COLOR,  cv2.LINE_AA)\n",
    "\n",
    "cv2.imshow('img', img)\n",
    "cv2.waitKey(0)\n",
    "cv2.destroyAllWindows()"
   ]
  }
 ],
 "metadata": {
  "kernelspec": {
   "display_name": "Python 3 (ipykernel)",
   "language": "python",
   "name": "python3"
  },
  "language_info": {
   "codemirror_mode": {
    "name": "ipython",
    "version": 3
   },
   "file_extension": ".py",
   "mimetype": "text/x-python",
   "name": "python",
   "nbconvert_exporter": "python",
   "pygments_lexer": "ipython3",
   "version": "3.9.7"
  }
 },
 "nbformat": 4,
 "nbformat_minor": 5
}
