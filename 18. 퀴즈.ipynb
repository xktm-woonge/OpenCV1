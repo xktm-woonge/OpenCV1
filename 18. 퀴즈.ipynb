{
 "cells": [
  {
   "cell_type": "markdown",
   "id": "679be0b4",
   "metadata": {},
   "source": [
    "# 퀴즈"
   ]
  },
  {
   "cell_type": "markdown",
   "id": "0ac39110",
   "metadata": {},
   "source": [
    "## openCV를 이용하여 가로로 촬영된 영상을 세로로 회전하는 프로그램\n",
    "1. 회전 : 시계 반대방향 90도\n",
    "2. 재생속도 (fps) : 원본 x 4배\n",
    "3. 출력 파일명 : city_output.avi(코덱: DIVX)"
   ]
  },
  {
   "cell_type": "code",
   "execution_count": 6,
   "id": "acd07c1c",
   "metadata": {},
   "outputs": [],
   "source": [
    "import cv2\n",
    "cap = cv2.VideoCapture('city.mp4')\n",
    "fourcc = cv2.VideoWriter_fourcc(*'DIVX')\n",
    "width = round(cap.get(cv2.CAP_PROP_FRAME_WIDTH))\n",
    "height = round(cap.get(cv2.CAP_PROP_FRAME_HEIGHT))\n",
    "fps = cap.get(cv2.CAP_PROP_FPS)\n",
    "\n",
    "out = cv2.VideoWriter('city_output.avi', fourcc, fps * 4, (width, height))\n",
    "while cap.isOpened(): # 동영상 파일이 제대로 열렸는지?\n",
    "    ret, frame = cap.read() # ret : 성공 여부, frame : 받아온 이미지 (프레임)\n",
    "    if not ret:\n",
    "        break\n",
    "    \n",
    "    \n",
    "    \n",
    "    rotate_90_ = cv2.rotate(frame, cv2.ROTATE_90_COUNTERCLOCKWISE)\n",
    "    cv2.imshow('video', rotate_90_)\n",
    "    \n",
    "    if cv2.waitKey(1) == ord('q'): # 영상 속도 지정 가능\n",
    "        break\n",
    "        \n",
    "cap.release() #자원 해제\n",
    "out.release()\n",
    "cv2.destroyAllWindows() # 모든 창 닫기"
   ]
  }
 ],
 "metadata": {
  "kernelspec": {
   "display_name": "Python 3 (ipykernel)",
   "language": "python",
   "name": "python3"
  },
  "language_info": {
   "codemirror_mode": {
    "name": "ipython",
    "version": 3
   },
   "file_extension": ".py",
   "mimetype": "text/x-python",
   "name": "python",
   "nbconvert_exporter": "python",
   "pygments_lexer": "ipython3",
   "version": "3.9.7"
  }
 },
 "nbformat": 4,
 "nbformat_minor": 5
}
