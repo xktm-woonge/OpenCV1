{
 "cells": [
  {
   "cell_type": "markdown",
   "id": "07c28209",
   "metadata": {},
   "source": [
    "# 11. 이미지 변형(흐림)"
   ]
  },
  {
   "cell_type": "markdown",
   "id": "12de0a5b",
   "metadata": {},
   "source": [
    "## 가우시안 블러"
   ]
  },
  {
   "cell_type": "markdown",
   "id": "9ce68547",
   "metadata": {},
   "source": [
    "커널 사이즈 변화에 따른 흐림"
   ]
  },
  {
   "cell_type": "code",
   "execution_count": 3,
   "id": "cc29545b",
   "metadata": {},
   "outputs": [],
   "source": [
    "import cv2\n",
    "img = cv2.imread('img.jpg')\n",
    "# 커널사이즈, 표준 편차\n",
    "kernerl3 = cv2.GaussianBlur(img, (3,3), 0)\n",
    "kernerl5 = cv2.GaussianBlur(img, (5,5), 0)\n",
    "kernerl7 = cv2.GaussianBlur(img, (7,7), 0)\n",
    "\n",
    "cv2.imshow('img', img)\n",
    "cv2.imshow('kernerl3', kernerl3)\n",
    "cv2.imshow('kernerl5', kernerl5)\n",
    "cv2.imshow('kernerl7', kernerl7)\n",
    "cv2.waitKey(0)\n",
    "cv2.destroyAllWindows()"
   ]
  },
  {
   "cell_type": "markdown",
   "id": "3955f8b1",
   "metadata": {},
   "source": [
    "표준 변차 변화에 따른 흐림"
   ]
  },
  {
   "cell_type": "code",
   "execution_count": 4,
   "id": "6b1e3021",
   "metadata": {},
   "outputs": [],
   "source": [
    "import cv2\n",
    "img = cv2.imread('img.jpg')\n",
    "\n",
    "sigma1 = cv2.GaussianBlur(img, (0,0), 1) # sigmaX - 가우시안 커널의 x 방향의 표준 편차\n",
    "sigma2 = cv2.GaussianBlur(img, (0,0), 2)\n",
    "sigma3 = cv2.GaussianBlur(img, (0,0), 3)\n",
    "\n",
    "cv2.imshow('img', img)\n",
    "cv2.imshow('sigma1', sigma1)\n",
    "cv2.imshow('sigma2', sigma2)\n",
    "cv2.imshow('sigma3', sigma3)\n",
    "cv2.waitKey(0)\n",
    "cv2.destroyAllWindows()"
   ]
  }
 ],
 "metadata": {
  "kernelspec": {
   "display_name": "Python 3 (ipykernel)",
   "language": "python",
   "name": "python3"
  },
  "language_info": {
   "codemirror_mode": {
    "name": "ipython",
    "version": 3
   },
   "file_extension": ".py",
   "mimetype": "text/x-python",
   "name": "python",
   "nbconvert_exporter": "python",
   "pygments_lexer": "ipython3",
   "version": "3.9.7"
  }
 },
 "nbformat": 4,
 "nbformat_minor": 5
}
