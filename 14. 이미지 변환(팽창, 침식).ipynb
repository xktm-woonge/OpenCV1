{
 "cells": [
  {
   "cell_type": "markdown",
   "id": "2bf43e5b",
   "metadata": {},
   "source": [
    "# 14. 이미지 변환(팽창)"
   ]
  },
  {
   "cell_type": "markdown",
   "id": "ae1326fe",
   "metadata": {},
   "source": [
    "## 이미지를 확장하여 작은 구멍을 채움\n",
    "흰색 영역의 외곽 픽셀 주변에 흰색을 추가"
   ]
  },
  {
   "cell_type": "code",
   "execution_count": 2,
   "id": "990bb600",
   "metadata": {},
   "outputs": [],
   "source": [
    "import cv2\n",
    "import numpy as np\n",
    "\n",
    "kernel = np.ones((3, 3), dtype=np.uint8)\n",
    "\n",
    "img = cv2.imread('dal2.png', cv2.IMREAD_GRAYSCALE)\n",
    "dilate1 = cv2.dilate(img, kernel, iterations = 1) #반복 횟수\n",
    "dilate2 = cv2.dilate(img, kernel, iterations = 2) #반복 횟수\n",
    "dilate3 = cv2.dilate(img, kernel, iterations = 3) #반복 횟수\n",
    "\n",
    "cv2.imshow('gray', img)\n",
    "cv2.imshow('dilate1', dilate1)\n",
    "cv2.imshow('dilate2', dilate2)\n",
    "cv2.imshow('dilate3', dilate3)\n",
    "cv2.waitKey(0)\n",
    "cv2.destroyAllWindows()"
   ]
  },
  {
   "cell_type": "markdown",
   "id": "859604fe",
   "metadata": {},
   "source": [
    "# 이미지 변환(침식)"
   ]
  },
  {
   "cell_type": "markdown",
   "id": "5c306484",
   "metadata": {},
   "source": [
    "## 이미지를 깎아서 노이즈 제거\n",
    "흰색 영역의 외곽 픽셀 주변에 검은색을 추가"
   ]
  },
  {
   "cell_type": "code",
   "execution_count": 4,
   "id": "bd3dfdaa",
   "metadata": {},
   "outputs": [],
   "source": [
    "import cv2\n",
    "import numpy as np\n",
    "\n",
    "kernel = np.ones((3, 3), dtype=np.uint8)\n",
    "\n",
    "img = cv2.imread('dal.png', cv2.IMREAD_GRAYSCALE)\n",
    "erode1 = cv2.erode(img, kernel, iterations=1)\n",
    "erode2 = cv2.erode(img, kernel, iterations=2)\n",
    "erode3 = cv2.erode(img, kernel, iterations=3)\n",
    "\n",
    "cv2.imshow('gray', img)\n",
    "cv2.imshow('erode1', erode1)\n",
    "cv2.imshow('erode2', erode2)\n",
    "cv2.imshow('erode3', erode3)\n",
    "cv2.waitKey(0)\n",
    "cv2.destroyAllWindows()"
   ]
  }
 ],
 "metadata": {
  "kernelspec": {
   "display_name": "Python 3 (ipykernel)",
   "language": "python",
   "name": "python3"
  },
  "language_info": {
   "codemirror_mode": {
    "name": "ipython",
    "version": 3
   },
   "file_extension": ".py",
   "mimetype": "text/x-python",
   "name": "python",
   "nbconvert_exporter": "python",
   "pygments_lexer": "ipython3",
   "version": "3.9.7"
  }
 },
 "nbformat": 4,
 "nbformat_minor": 5
}
