{
 "cells": [
  {
   "cell_type": "markdown",
   "id": "ceb85a46",
   "metadata": {},
   "source": [
    "# 얼굴 인식하여 캐릭터 씌우기"
   ]
  },
  {
   "cell_type": "markdown",
   "id": "5a1b9ff0",
   "metadata": {},
   "source": [
    "## Face Detection vs Face Recognition"
   ]
  },
  {
   "cell_type": "markdown",
   "id": "ebe72614",
   "metadata": {},
   "source": [
    "패치키 설치\n",
    "> pip install mediapipe"
   ]
  },
  {
   "cell_type": "code",
   "execution_count": 13,
   "id": "bff04ec5",
   "metadata": {},
   "outputs": [],
   "source": [
    "import cv2\n",
    "import mediapipe as mp\n",
    "\n",
    "def overlay(image, x, y,w,h, overlay_image): # 대상 이미지, x,y좌표,  width, height, 덮어씌울 이미지\n",
    "    alpha = overlay_image[:,:,3]\n",
    "    mask_image = alpha / 255 # 0 - 255 -> 255로 나누면 0 ~ 1 사이 값(1: 불투명, 0: 완전)\n",
    "    \n",
    "    for c in range(0,3):\n",
    "        image[y-h: y+h, x-w:x+w, c] = ((overlay_image[:, :, c] * mask_image + image[y-h: y+h, x-w:x+w, c]) * (1 - mask_image))\n",
    "\n",
    "# 얼굴을 찾고, 찾은 얼굴에 표시를 해주기 위한 변수 정의\n",
    "mp_face_detection = mp.solutions.face_detection # 얼굴 검출을 위한 face_detection 모듈 사용\n",
    "mp_drawing = mp.solutions.drawing_utils # 얼굴의 특징을 그리기 위한 drawing_utils 모듈 사용\n",
    "\n",
    "\n",
    "# 동영상 파일 열기\n",
    "cap = cv2.VideoCapture('face.mp4')\n",
    "\n",
    "# 이미지 불러오기\n",
    "image_right = cv2.imread('right.png', cv2.IMREAD_UNCHANGED)\n",
    "image_left = cv2.imread('left.png', cv2.IMREAD_UNCHANGED)\n",
    "image_nose = cv2.imread('nose.png', cv2.IMREAD_UNCHANGED)\n",
    "\n",
    "\n",
    "with mp_face_detection.FaceDetection(\n",
    "    model_selection=0, min_detection_confidence=0.5) as face_detection:\n",
    "    while cap.isOpened():\n",
    "        success, image = cap.read()\n",
    "        if not success:\n",
    "            # If loading a video, use 'break' instead of 'continue'.\n",
    "            break\n",
    "\n",
    "        # To improve performance, optionally mark the image as not writeable to\n",
    "        # pass by reference.\n",
    "        image.flags.writeable = False\n",
    "        image = cv2.cvtColor(image, cv2.COLOR_BGR2RGB)\n",
    "        results = face_detection.process(image)\n",
    "\n",
    "        # Draw the face detection annotations on the image.\n",
    "        image.flags.writeable = True\n",
    "        image = cv2.cvtColor(image, cv2.COLOR_RGB2BGR)\n",
    "        if results.detections:\n",
    "            # 6개 특징 : 오른쪽 눈, 왼쪽 눈, 코 끝부분, 입 중심, 오른쪽 귀, 왼쪽 귀(귀구슬점, 이주)\n",
    "            for detection in results.detections:\n",
    "                mp_drawing.draw_detection(image, detection)\n",
    "                \n",
    "                # 특정 위치 가져오기\n",
    "                keypoints = detection.location_data.relative_keypoints\n",
    "                right_eye = keypoints[0]\n",
    "                left_eye = keypoints[1]\n",
    "                nose_tip = keypoints[2]\n",
    "                \n",
    "                h, w, _ = image.shape # height, width, channel\n",
    "                \n",
    "                right_eye = (int(right_eye.x * w), int(right_eye.y * h))\n",
    "                left_eye = (int(left_eye.x * w), int(left_eye.y * h))\n",
    "                nose_tip = (int(nose_tip.x * w), int(nose_tip.y * h))\n",
    "                \n",
    "#                 # 양 눈에 동그라미 그리기\n",
    "#                 cv2.circle(image, right_eye, 50,(255,0,0), 10, cv2.LINE_AA)\n",
    "#                 cv2.circle(image, left_eye, 50,(0,255,0), 10, cv2.LINE_AA)\n",
    "#                 # 코에 동그라미 그리기\n",
    "#                 cv2.circle(image, nose_tip, 50,(0,255,255), 10, cv2.LINE_AA)\n",
    "#                 image[right_eye[1]-50:right_eye[1]+50,right_eye[0]-50:right_eye[0]+50] =image_right\n",
    "#                 image[left_eye[1]-50:left_eye[1]+50,left_eye[0]-50:left_eye[0]+50] =image_left\n",
    "#                 image[nose_eye[1]-50:nose_eye[1]+50,nose_eye[0]-50:nose_eye[0]+50] =image_nose\n",
    "\n",
    "                overlay(image, *right_eye, 50, 50, image_right)\n",
    "                overlay(image, *left_eye, 50, 50, image_left)\n",
    "                overlay(image, *nose_tip, 150, 50, image_nose)\n",
    "        # Flip the image horizontally for a selfie-view display.\n",
    "        cv2.imshow('MediaPipe Face Detection', cv2.resize(image, None, fx=0.5, fy = 0.5))\n",
    "        if cv2.waitKey(1)  == ord('q'):\n",
    "            break\n",
    "cap.release()\n",
    "cv2.destroyAllWindows()"
   ]
  },
  {
   "cell_type": "code",
   "execution_count": 12,
   "id": "7a0de52a",
   "metadata": {},
   "outputs": [
    {
     "data": {
      "text/plain": [
       "(100, 100, 4)"
      ]
     },
     "execution_count": 12,
     "metadata": {},
     "output_type": "execute_result"
    }
   ],
   "source": [
    "image_right = cv2.imread('right.png', cv2.IMREAD_UNCHANGED)\n",
    "image_right.shape"
   ]
  },
  {
   "cell_type": "code",
   "execution_count": null,
   "id": "c6dce51e",
   "metadata": {},
   "outputs": [],
   "source": []
  }
 ],
 "metadata": {
  "kernelspec": {
   "display_name": "Python 3 (ipykernel)",
   "language": "python",
   "name": "python3"
  },
  "language_info": {
   "codemirror_mode": {
    "name": "ipython",
    "version": 3
   },
   "file_extension": ".py",
   "mimetype": "text/x-python",
   "name": "python",
   "nbconvert_exporter": "python",
   "pygments_lexer": "ipython3",
   "version": "3.9.7"
  }
 },
 "nbformat": 4,
 "nbformat_minor": 5
}
